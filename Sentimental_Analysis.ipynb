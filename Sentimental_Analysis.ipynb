{
  "cells": [
    {
      "cell_type": "markdown",
      "source": [
        "\n",
        "\n",
        "---\n",
        "\n",
        "\n",
        "packages\n",
        "---\n",
        "\n",
        "\n",
        "\n",
        "---\n",
        "\n"
      ],
      "metadata": {
        "id": "a5wBI76tMLBr"
      }
    },
    {
      "cell_type": "code",
      "execution_count": null,
      "metadata": {
        "id": "erEGsq-aKU_P",
        "colab": {
          "base_uri": "https://localhost:8080/"
        },
        "outputId": "812dc10c-1d51-46da-ed16-5d429389a7f8"
      },
      "outputs": [
        {
          "output_type": "stream",
          "name": "stderr",
          "text": [
            "[nltk_data] Downloading package wordnet to /root/nltk_data...\n",
            "[nltk_data] Downloading package stopwords to /root/nltk_data...\n",
            "[nltk_data]   Package stopwords is already up-to-date!\n",
            "[nltk_data] Downloading package punkt to /root/nltk_data...\n",
            "[nltk_data]   Unzipping tokenizers/punkt.zip.\n"
          ]
        },
        {
          "output_type": "execute_result",
          "data": {
            "text/plain": [
              "True"
            ]
          },
          "metadata": {},
          "execution_count": 2
        }
      ],
      "source": [
        "import pandas as pd\n",
        "from bs4 import BeautifulSoup\n",
        "import csv\n",
        "import requests\n",
        "import json\n",
        "import re\n",
        "import os\n",
        "import seaborn as sns\n",
        "import string\n",
        "import matplotlib.pyplot as plt\n",
        "import nltk\n",
        "from textblob import TextBlob\n",
        "from nltk.stem import WordNetLemmatizer\n",
        "from nltk.corpus import stopwords\n",
        "from nltk.stem import PorterStemmer\n",
        "from sklearn.feature_extraction.text import TfidfVectorizer\n",
        "from sklearn.model_selection import train_test_split\n",
        "nltk.download('wordnet')\n",
        "nltk.download('stopwords')\n",
        "nltk.download('punkt')"
      ]
    },
    {
      "cell_type": "markdown",
      "source": [
        "\n",
        "\n",
        "---\n",
        "web scrapping, dataset creation\n",
        "\n",
        "---\n",
        "\n",
        "\n"
      ],
      "metadata": {
        "id": "ZB4-gt0gcd_p"
      }
    },
    {
      "cell_type": "code",
      "execution_count": null,
      "metadata": {
        "id": "OLt6PhbaKyJD"
      },
      "outputs": [],
      "source": [
        "def get_blog_url(soup):\n",
        "  div = soup.find_all('div',attrs = {'class':'FL PR20'})\n",
        "  url_list =[]\n",
        "  for title in div:\n",
        "    href = title.find('a')['href']\n",
        "    url_list.append(\"https://www.moneycontrol.com/\"+href)\n",
        "  return url_list"
      ]
    },
    {
      "cell_type": "code",
      "execution_count": null,
      "metadata": {
        "id": "GT4N8U3lLTz_"
      },
      "outputs": [],
      "source": [
        "def get_blog_content(url):\n",
        "  request = requests.get(url)\n",
        "  soupurl = BeautifulSoup(request.text,'html.parser')\n",
        "  all_script = soupurl.find_all('script',attrs ={'type': 'application/ld+json'})\n",
        "  raw_article_str = all_script[2].get_text().replace('\\r\\n',' ')\n",
        "  parts = re.split(r\"\"\"(\"[^\"]*\"|'[^']*')\"\"\",raw_article_str)\n",
        "  parts[::2] = map(lambda s:\"\".join(s.split()),parts[::2])\n",
        "  article_str = \"\".join(parts)\n",
        "  article_str = article_str[1:]\n",
        "  article_str = article_str[:-1]\n",
        "  article_dict = json.loads(article_str)\n",
        "  all_tags = soupurl.find_all('div',attrs = {'class':'tags_first_line'})\n",
        "  lst_all_tags = []\n",
        "  for i in all_tags:\n",
        "    lst_all_tags.append(i.get_text())\n",
        "  tags = lst_all_tags[0].replace('Tags:','')\n",
        "  tags = tags.replace('\\n','')\n",
        "  tags = tags.split(\"#\")\n",
        "  tags = tags[1:]\n",
        "  tags = ','.join([str(elem).strip() for elem in tags])\n",
        "  article_dict['tags'] = tags\n",
        "\n",
        "  return article_dict"
      ]
    },
    {
      "cell_type": "code",
      "execution_count": null,
      "metadata": {
        "id": "JV3sleuxLcc2"
      },
      "outputs": [],
      "source": [
        "def get_page_no(url,sc_id,page_no,next,year):\n",
        "  request = requests.get(url)\n",
        "  soup = BeautifulSoup(request.text,'html.parser')\n",
        "  all_page_no = soup.find_all('div',attrs = {'class':'pages MR10 MT15'})\n",
        "  page_list = [i.text for i in all_page_no[0].find_all('a')]\n",
        "  if any(map(str.isdigit,page_list[-1])):\n",
        "    return int(page_list[-1]),next\n",
        "  else:\n",
        "    next = next + 1\n",
        "    page_no = int(page_list[-2])\n",
        "    url = \"https://www.moneycontrol.com/stocks/company_info/stocks_news.php?sc_id=\"+sc_id+\"&scat=&pageno=\"+str(page_no)+\"&next=\"+str(next)+\"&durationType=Y&Year=\"+str(year)+\"&duration=1&news_type=\"\n",
        "    return get_page_no(url,sc_id,page_no,next,year)"
      ]
    },
    {
      "cell_type": "code",
      "source": [],
      "metadata": {
        "id": "04dZ3nn_Dnq3"
      },
      "execution_count": null,
      "outputs": []
    },
    {
      "cell_type": "code",
      "execution_count": null,
      "metadata": {
        "id": "DgwLxqElCeyI"
      },
      "outputs": [],
      "source": [
        "def save_company_data(url_ = \"https://www.moneycontrol.com/stocks/company_info/stock_news.php?\",sc_id=[],page_no=1,next=0,years=[]):\n",
        "  for company in sc_id:\n",
        "    df = pd.DataFrame(columns=['company','datePublished',\n",
        "                               'headline',\n",
        "                               'description','articleBody',\n",
        "                               'tags','url'])\n",
        "\n",
        "    for year in years:\n",
        "      print('year: ',year)\n",
        "      print('page no: ',page_no)\n",
        "      print('next: ',next)\n",
        "\n",
        "      url = url_+\"sc_id=\"+company+\"&scat=&pageno=\"+str(page_no)+\"&next=\"+str(next)+\"&durationType=Y&Year=\"+str(year)+\"&duration=1&news_type=\"\n",
        "      print(url)\n",
        "\n",
        "      max_page_no,max_next = get_page_no(url,company,page_no,next,year)\n",
        "      max_next = max_next+1\n",
        "\n",
        "      for i in range(max_next):\n",
        "        for j in range((i*10)+1,(i*10)+11):\n",
        "          if j<=max_page_no:\n",
        "            url_list=[]\n",
        "            url = url_+\"sc_id=\"+company+\"&scat=&pageno=\"+str(j)+\"&next=\"+str(i)+\"&durationType=Y&Year=\"+str(year)+\"&duration=1&news_type=\"\n",
        "            request = requests.get(url)\n",
        "            soup = BeautifulSoup(request.text,'html.parser')\n",
        "            url_list = get_blog_url(soup)\n",
        "\n",
        "            for url in url_list:\n",
        "              try:\n",
        "                article_dict1 = get_blog_content(url)\n",
        "                print(company)\n",
        "                print(article_dict1['datePublished'])\n",
        "                print(article_dict1['url'])\n",
        "                print(\"--------------------------------------------------\")\n",
        "\n",
        "                article_list=[[company,\n",
        "                              article_dict1['datePublished'],article_dict1['headline'],\n",
        "                              article_dict1['description'],article_dict1['articleBody'],\n",
        "                              article_dict1['tags'],\n",
        "                              url]]\n",
        "                print(article_list)\n",
        "                dataFrame = pd.DataFrame(article_list,columns=['company','datePublished','headline',\n",
        "                                                                  'description','articleBody','tags','url']);\n",
        "                df = pd.concat([df, dataFrame], ignore_index = True)\n",
        "              except:\n",
        "                article_list = [[company,'error','error','error','error','error',url]]\n",
        "                print(article_list)\n",
        "                dataFrame = pd.DataFrame(article_list,columns=['company','datePublished','headline','description','articleBody','tags','url'])\n",
        "                df = pd.concat([df, dataFrame], ignore_index = True)\n",
        "\n",
        "                continue\n",
        "          else:\n",
        "            break\n",
        "      df.to_csv('/content/'+company+'.csv')"
      ]
    },
    {
      "cell_type": "code",
      "execution_count": null,
      "metadata": {
        "id": "albn4r6yLmna"
      },
      "outputs": [],
      "source": [
        "# @title all company data\n",
        "# def save_company_data(url_ = \"https://www.moneycontrol.com/stocks/company_info/stock_news.php?\",sc_id=[],page_no=1,next=0,years=[]):\n",
        "#   all_data = []\n",
        "#   for company in sc_id:\n",
        "#     df = pd.DataFrame(columns=['company','datePublished',\n",
        "#                                'headline',\n",
        "#                                'description','articleBody',\n",
        "#                                'tags','url'])\n",
        "\n",
        "#     for year in years:\n",
        "#       print('year: ',year)\n",
        "#       print('page no: ',page_no)\n",
        "#       print('next: ',next)\n",
        "\n",
        "#       url = url_+\"sc_id=\"+company+\"&scat=&pageno=\"+str(page_no)+\"&next=\"+str(next)+\"&durationType=Y&Year=\"+str(year)+\"&duration=1&news_type=\"\n",
        "#       print(url)\n",
        "\n",
        "#       max_page_no,max_next = get_page_no(url,company,page_no,next,year)\n",
        "#       max_next = max_next+1\n",
        "\n",
        "#       for i in range(max_next):\n",
        "#         for j in range((i*10)+1,(i*10)+11):\n",
        "#           if j<=max_page_no:\n",
        "#             url_list=[]\n",
        "#             url = url_+\"sc_id=\"+company+\"&scat=&pageno=\"+str(j)+\"&next=\"+str(i)+\"&durationType=Y&Year=\"+str(year)+\"&duration=1&news_type=\"\n",
        "#             request = requests.get(url)\n",
        "#             soup = BeautifulSoup(request.text,'html.parser')\n",
        "#             url_list = get_blog_url(soup)\n",
        "\n",
        "#             for url in url_list:\n",
        "#               try:\n",
        "#                 article_dict1 = get_blog_content(url)\n",
        "#                 print(company)\n",
        "#                 print(article_dict1['datePublished'])\n",
        "#                 print(article_dict1['url'])\n",
        "#                 print(\"--------------------------------------------------\")\n",
        "\n",
        "#                 article_list=[company,\n",
        "#                               article_dict1['datePublished'],article_dict1['headline'],\n",
        "#                               article_dict1['description'],article_dict1['articleBody'],\n",
        "#                               article_dict1['tags'],\n",
        "#                               url]\n",
        "#                 print(article_list)\n",
        "#                 all_data.append(article_list)\n",
        "\n",
        "#               except:\n",
        "#                 article_list = [company,'error','error','error','error','error',url]\n",
        "#                 print(article_list)\n",
        "#                 all_data.append(article_list)\n",
        "\n",
        "\n",
        "#                 continue\n",
        "#           else:\n",
        "#             break\n",
        "#       all_data.extend(df.values.tolist())\n",
        "\n",
        "\n",
        "\n",
        "    # Create a single DataFrame from all the data\n",
        "    # combined_df = pd.DataFrame(all_data, columns=['company', 'datePublished', 'headline', 'description', 'articleBody', 'tags', 'url'])\n",
        "\n",
        "    # # Save the combined DataFrame to a single CSV file\n",
        "    # combined_df.to_csv('/content/all_companies.csv', mode='a', header=False, index=False)\n",
        "    #   df = pd.DataFrame(all_data, columns=['company', 'datePublished', 'headline', 'description', 'articleBody', 'tags', 'url'])\n",
        "\n",
        "    # # Save the DataFrame to a single CSV file\n",
        "    #   df.to_csv('/content/all_companies.csv')\n"
      ]
    },
    {
      "cell_type": "code",
      "execution_count": null,
      "metadata": {
        "colab": {
          "background_save": true
        },
        "id": "TbkUNX2MLof5"
      },
      "outputs": [],
      "source": [
        "# @title web scrapping news\n",
        "\n",
        "l = ['TEL','LI09','IT','HDF01','RI']\n",
        "for i in l:\n",
        "  save_company_data(sc_id=[i],years =[2023,2022,2021])"
      ]
    },
    {
      "cell_type": "code",
      "execution_count": null,
      "metadata": {
        "id": "hsoeg5CgNp97"
      },
      "outputs": [],
      "source": [
        "# @title time series\n",
        "import yfinance as yf\n",
        "# Define the stock symbol and date range\n",
        "l = ['TATAMOTORS.NS','LTIM.NS','INFY.NS','HDFCBANK.NS','RELIANCE.NS']\n",
        "f = ['TEL','LI09','IT','HDF01','RI']\n",
        "stock = pd.DataFrame()\n",
        "\n",
        "for i in range(len(l)):\n",
        "  stock_symbol = l[i]\n",
        "  start_date = \"2021-01-01\"\n",
        "  end_date = \"2023-11-05\"\n",
        "\n",
        "# Fetch historical data\n",
        "  stock_data = yf.download(stock_symbol, start=start_date, end=end_date)\n",
        "  stock_data['Company'] = f[i]\n",
        "  stock=stock.append(stock_data)\n",
        "  stock_data.to_csv(l[i]+'.csv')\n"
      ]
    },
    {
      "cell_type": "code",
      "execution_count": null,
      "metadata": {
        "id": "5JmaQZNHtTHI"
      },
      "outputs": [],
      "source": [
        "# @title merging\n",
        "from yfinance.data import time\n",
        "l = ['TATAMOTORS.NS','LTIM.NS','INFY.NS','HDFCBANK.NS','RELIANCE.NS']\n",
        "f = ['TEL','LI09','IT','HDF01','RI']\n",
        "for i in range(len(f)):\n",
        "  newspath= '/content/'+f[i]+'.csv'\n",
        "  timeseriespath = '/content/'+l[i]+'.csv'\n",
        "  df1 = pd.read_csv(newspath)\n",
        "  df2 = pd.read_csv(timeseriespath)\n",
        "  print(df2)\n",
        "  print(df1)\n",
        "  merged_data = pd.merge(df1, df2,on=('Date','Company'))\n",
        "  # print(merged_data)\n",
        "  merged_data.to_csv(f[i]+' combined.csv', index=False)\n"
      ]
    },
    {
      "cell_type": "markdown",
      "source": [
        "\n",
        "\n",
        "---\n",
        "\n",
        "\n",
        "\n",
        "---\n",
        "\n",
        "\n",
        "sentiment analysis\n",
        "\n",
        "\n",
        "---\n",
        "\n"
      ],
      "metadata": {
        "id": "6_gg3W-9Mbf7"
      }
    },
    {
      "cell_type": "code",
      "source": [
        "# @title preprocessing\n",
        "# Load the stock news data from a CSV file\n",
        "f = ['TEL','LI09','IT','HDF01','RI']\n",
        "for i in f:\n",
        "\n",
        "  data = pd.read_csv('/content/'+i+' combined.csv')\n",
        "\n",
        "  # Specify the name of the column to preprocess\n",
        "  column_to_preprocess = 'articleBody'\n",
        "\n",
        "  # Define a function for text preprocessing\n",
        "  def preprocess_text(text):\n",
        "      # Convert text to lowercase\n",
        "      text = text.lower()\n",
        "\n",
        "      # Remove punctuation\n",
        "      translator = str.maketrans('', '', string.punctuation)\n",
        "      text = text.translate(translator)\n",
        "\n",
        "      # Tokenize the text\n",
        "      tokens = text.split()\n",
        "\n",
        "      # Remove stopwords\n",
        "      stop_words = set(stopwords.words('english'))\n",
        "      filtered_tokens = [word for word in tokens if word not in stop_words]\n",
        "\n",
        "      # Lemmatize the tokens\n",
        "      lemmatizer = WordNetLemmatizer()\n",
        "      lemmatized_tokens = [lemmatizer.lemmatize(token) for token in filtered_tokens]\n",
        "\n",
        "      # Join the tokens back into a single string\n",
        "      preprocessed_text = ' '.join(lemmatized_tokens)\n",
        "\n",
        "      return preprocessed_text\n",
        "\n",
        "  # Apply the preprocessing function to the specified column\n",
        "  data[column_to_preprocess] = data[column_to_preprocess].apply(preprocess_text)\n",
        "  # should make new column\n",
        "  data.to_csv('/content/'+i+' combined.csv')\n",
        "  # Display the preprocessed data\n",
        "  print(data[[column_to_preprocess]].head())\n",
        "\n",
        "  def analyze_sentiment(text):\n",
        "      analysis = TextBlob(text)\n",
        "      sentiment = analysis.sentiment.polarity\n",
        "      if sentiment > 0:\n",
        "          return 'positive'\n",
        "      elif sentiment < 0:\n",
        "          return 'negative'\n",
        "      else:\n",
        "          return 'neutral'\n",
        "\n",
        "  # Apply sentiment analysis to the news data\n",
        "  data['sentiment'] = data['articleBody'].apply(analyze_sentiment)\n",
        "  print(data)\n",
        "  data.to_csv(i+'sentiment.csv',index = False)\n"
      ],
      "metadata": {
        "colab": {
          "base_uri": "https://localhost:8080/"
        },
        "id": "ZkelZ5zTaOSJ",
        "outputId": "717973a8-6522-4c3f-b0a0-eb64358f4bc5"
      },
      "execution_count": null,
      "outputs": [
        {
          "output_type": "stream",
          "name": "stdout",
          "text": [
            "                                         articleBody\n",
            "0  tata motor wednesday reported 589 per cent ris...\n",
            "1  market expected see nearterm healthy support 1...\n",
            "2  tata technology ltd reserving portion upcoming...\n",
            "3  kr chokseys research report tata motor ttmtrsq...\n",
            "4  motilal oswals research report tata motor tata...\n",
            "     Unnamed: 0.2  Unnamed: 0.1  Unnamed: 0 Company        Date  \\\n",
            "0               0             0           0     TEL  01-11-2023   \n",
            "1               1             1           1     TEL  16-10-2023   \n",
            "2               2             2           2     TEL  04-10-2023   \n",
            "3               3             3           3     TEL  02-08-2023   \n",
            "4               4             4           4     TEL  28-07-2023   \n",
            "..            ...           ...         ...     ...         ...   \n",
            "196           196           196         196     TEL  15-01-2021   \n",
            "197           197           197         197     TEL  14-01-2021   \n",
            "198           198           198         198     TEL  11-01-2021   \n",
            "199           199           199         199     TEL  08-01-2021   \n",
            "200           200           200         200     TEL  01-01-2021   \n",
            "\n",
            "                                              headline  \\\n",
            "0    Tata Motors total sales up 5.89% at 82,954 uni...   \n",
            "1    Trade Spotlight | Your strategy for Tata Motor...   \n",
            "2    Tata Technologies reserves IPO share for emplo...   \n",
            "3        Buy Tata Motors; target of Rs 743: KR Choksey   \n",
            "4     Buy TATA Motors; target of Rs 750: Motilal Oswal   \n",
            "..                                                 ...   \n",
            "196  Luxury car market set to see up to 40 launches...   \n",
            "197  Tata Motors begins production of new Safari at...   \n",
            "198  Tata Motors owned JLR car sales take pandemic ...   \n",
            "199      Tata Motors launches Intra V20 truck in Nepal   \n",
            "200  Tata Motors sales rise 21% to 53,430 units in ...   \n",
            "\n",
            "                                           description  \\\n",
            "0    The total domestic sales stood at 80,825 units...   \n",
            "1    Tata Motors has seen a decisive breakout of do...   \n",
            "2    Tata Technologies IPO: This allocation, as per...   \n",
            "3    KR Choksey is bullish on Tata Motors has recom...   \n",
            "4    Motilal Oswal is bullish on TATA Motors recomm...   \n",
            "..                                                 ...   \n",
            "196  Some of these companies have also announced a ...   \n",
            "197  The auto major on Thursday rolled out the firs...   \n",
            "198  Retail sales for the quarter ending December 3...   \n",
            "199  Priced at 19.75 lakh Nepalese rupees, the smal...   \n",
            "200  The company's PV business has been witnessing ...   \n",
            "\n",
            "                                           articleBody  \\\n",
            "0    tata motor wednesday reported 589 per cent ris...   \n",
            "1    market expected see nearterm healthy support 1...   \n",
            "2    tata technology ltd reserving portion upcoming...   \n",
            "3    kr chokseys research report tata motor ttmtrsq...   \n",
            "4    motilal oswals research report tata motor tata...   \n",
            "..                                                 ...   \n",
            "196  covid19 pandemic might crippled luxury car dem...   \n",
            "197  tata motor thursday said commenced productiono...   \n",
            "198  tata motorsowned jaguar land rover jlr monday ...   \n",
            "199  tata motor friday said launched compact truck ...   \n",
            "200  tata motor onnbspjanuary 1nbspreported 21 perc...   \n",
            "\n",
            "                                                  tags        Open  \\\n",
            "0                  Auto,Business,Companies,Tata Motors  630.000000   \n",
            "1    Gujarat Alkalies and Chemicals,Stocks Views,Ta...  668.549988   \n",
            "2           equity markets,IPO - News,markets News,OFS  620.799988   \n",
            "3           Buy,KR Choksey,Recommendations,Tata Motors  644.000000   \n",
            "4         Buy,Motilal Oswal,Recommendations,Tata motos  646.000000   \n",
            "..                                                 ...         ...   \n",
            "196    Audi,Auto,BMW,Business,Mercedes-Benz,Technology  246.000000   \n",
            "197                            Auto,Business,Companies  242.850006   \n",
            "198  Business,China,Jaguar Land Rover,Market news,T...  199.899994   \n",
            "199         Auto,Business,Nepal,Tata Motors,Technology  198.750000   \n",
            "200                               Business,Tata Motors  184.949997   \n",
            "\n",
            "           High         Low       Close   Adj Close     Volume sentiment  \n",
            "0    633.799988  626.299988  627.700012  627.700012    8785264   neutral  \n",
            "1    677.799988  661.250000  666.200012  666.200012   20005816  positive  \n",
            "2    620.799988  608.299988  613.599976  613.599976    7612709  positive  \n",
            "3    644.299988  616.450012  622.650024  622.650024   15762687   neutral  \n",
            "4    646.000000  631.799988  635.299988  635.299988    9299530  positive  \n",
            "..          ...         ...         ...         ...        ...       ...  \n",
            "196  264.649994  242.600006  260.299988  259.491242  250038029  positive  \n",
            "197  249.800003  238.600006  245.100006  244.338470   86819519  positive  \n",
            "198  225.399994  199.649994  220.649994  219.964432  182483100  positive  \n",
            "199  201.500000  197.100006  198.149994  197.534332   53991568  positive  \n",
            "200  187.000000  184.500000  186.500000  185.920547   27334421  positive  \n",
            "\n",
            "[201 rows x 16 columns]\n",
            "                                         articleBody\n",
            "0  motilal oswals research report ltimindtree lti...\n",
            "1  sharekhans research report ltimindtree ltimind...\n",
            "2  hdfc security research report ltimindtree lti ...\n",
            "3  global digital solution company ltimindtree an...\n",
            "4  motilal oswals research report ltimindtree lti...\n",
            "   Company        Date                                           headline  \\\n",
            "0     LI09  20-10-2023  Neutral LTIMindtree; target of Rs 5350: Motila...   \n",
            "1     LI09  19-10-2023      Buy LTIMindtree; target of Rs 5880: Sharekhan   \n",
            "2     LI09  19-10-2023  Buy LTIMindtree; target of Rs 5890 HDFC Securi...   \n",
            "3     LI09  10-10-2023  Infineon Tech onboards LTIMindtree as strategi...   \n",
            "4     LI09  18-07-2023  Neutral LTIMindtree; target of Rs 4700: Motila...   \n",
            "..     ...         ...                                                ...   \n",
            "59    LI09  02-02-2021  Neutral Larsen and Toubro Infotech; target of ...   \n",
            "60    LI09  01-02-2021  Buy Larsen and Toubro Infotech; target of Rs 4...   \n",
            "61    LI09  27-01-2021  Larsen &amp;amp; Toubro Q3 profits up 4.9%, he...   \n",
            "62    LI09  20-01-2021  Larsen &amp;amp; Toubro Infotech Q3 net jumps ...   \n",
            "63    LI09  06-01-2021  Buy Larsen and Toubro Infotech: target of Rs 4...   \n",
            "\n",
            "                                          description  \\\n",
            "0   Motilal Oswal recommended Neutral rating on LT...   \n",
            "1   Sharekhan is bullish on LTIMindtree has recomm...   \n",
            "2   HDFC Securities is bullish on LTIMindtree has ...   \n",
            "3   Under the partnership, LTIMindtree will play a...   \n",
            "4   Motilal Oswal recommended Neutral rating on LT...   \n",
            "..                                                ...   \n",
            "59  Motilal Oswal recommended Neutral rating on La...   \n",
            "60  Sharekhan is bullish on Larsen and Toubro Info...   \n",
            "61  Larsen &amp;amp; Toubro reported a 4.9 percent...   \n",
            "62  The IT arm of engineering major L&amp;amp;T ha...   \n",
            "63  Sharekhan is bullish on Larsen and Toubro Info...   \n",
            "\n",
            "                                          articleBody  \\\n",
            "0   motilal oswals research report ltimindtree lti...   \n",
            "1   sharekhans research report ltimindtree ltimind...   \n",
            "2   hdfc security research report ltimindtree lti ...   \n",
            "3   global digital solution company ltimindtree an...   \n",
            "4   motilal oswals research report ltimindtree lti...   \n",
            "..                                                ...   \n",
            "59  motilal oswals research report lampampampt inf...   \n",
            "60  sharekhans research report larsen ampampamp to...   \n",
            "61  engineering infrastructure major larsen ampamp...   \n",
            "62  larsen ampampamp toubro infotech tuesday repor...   \n",
            "63  sharekhans research report larsen toubro infot...   \n",
            "\n",
            "                                                 tags         Open  \\\n",
            "0   LTIMindtree,Motilal Oswal,neutral,Recommendations  5461.000000   \n",
            "1           Buy,LTIMindtree,Recommendations,Sharekhan  5200.000000   \n",
            "2     Buy,HDFC Securities,LTIMindtree,Recommendations  5200.000000   \n",
            "3       Business,Infineon Technologies,LTIMindree,SAP  5240.000000   \n",
            "4   LTIMindtree,Motilal Oswal,neutral,Recommendations  5050.000000   \n",
            "..                                                ...          ...   \n",
            "59  L&T Infotech,Motilal Oswal,neutral,Recommendat...  3977.250000   \n",
            "60  Buy,Larsen & Toubro Infotech,Recommendations,S...  3997.000000   \n",
            "61  Larsen & Toubro,Results- Brokerage Conference ...  3913.699951   \n",
            "62          Business,Larsen & Toubro Infotech,Results  4107.000000   \n",
            "63  Buy,Larsen and Toubro Infotech,Recommendations...  4147.000000   \n",
            "\n",
            "           High          Low        Close    Adj Close   Volume sentiment  \n",
            "0   5513.000000  5390.049805  5416.200195  5395.250000   548231  positive  \n",
            "1   5480.000000  5200.000000  5457.799805  5436.688477  1808046  positive  \n",
            "2   5480.000000  5200.000000  5457.799805  5436.688477  1808046  positive  \n",
            "3   5294.250000  5212.350098  5266.350098  5245.979492   172958  positive  \n",
            "4   5077.950195  4945.250000  5001.149902  4981.805176  1983506  positive  \n",
            "..          ...          ...          ...          ...      ...       ...  \n",
            "59  4100.000000  3951.000000  4038.550049  3902.717529   158015  positive  \n",
            "60  4010.000000  3905.000000  3937.649902  3805.210938   128714  positive  \n",
            "61  4115.000000  3850.000000  4025.800049  3890.396729   349263  positive  \n",
            "62  4240.100098  4062.000000  4090.949951  3953.355225   233400  positive  \n",
            "63  4159.000000  3935.000000  3956.899902  3823.813965   597076  positive  \n",
            "\n",
            "[64 rows x 13 columns]\n",
            "                                         articleBody\n",
            "0  indian tech giant infosys ltd asking employee ...\n",
            "1  andhra pradesh chief minister jagan mohan redd...\n",
            "2  yes security research report infosys infosys i...\n",
            "3  emkay global financials research report infosy...\n",
            "4  motilal oswals research report infosys info re...\n",
            "    Company        Date                                           headline  \\\n",
            "0        IT  01-11-2023  Infosys asks some staff back in office 10 days...   \n",
            "1        IT  16-10-2023  Andhra Pradesh CM Jagan Mohan Reddy inaugurate...   \n",
            "2        IT  13-10-2023     Buy Infosys; target of Rs 1838: YES Securities   \n",
            "3        IT  13-10-2023  Buy Infosys; target of Rs 1680: Emkay Global F...   \n",
            "4        IT  13-10-2023      Buy Infosys; target of Rs 1660: Motilal Oswal   \n",
            "..      ...         ...                                                ...   \n",
            "113      IT  14-01-2021       Buy Infosys; target of Rs 1610: ICICI Direct   \n",
            "114      IT  13-01-2021  Infosys looks at double digit growth in FY22, ...   \n",
            "115      IT  13-01-2021  Infosys beats estimates with Q3 profit growth ...   \n",
            "116      IT  04-01-2021  Where does digital as a revenue metric stand f...   \n",
            "117      IT  01-01-2021  Infosys to release third quarter results on Ja...   \n",
            "\n",
            "                                           description  \\\n",
            "0    In an email to select employees in entry- to m...   \n",
            "1    Spread across 83,750 sq ft and built at a cost...   \n",
            "2    YES Securities is bullish on Infosys has recom...   \n",
            "3    Emkay Global Financial is bullish on Infosys h...   \n",
            "4    Motilal Oswal is bullish on Infosys recommende...   \n",
            "..                                                 ...   \n",
            "113  ICICI Direct is bullish on Infosys has recomme...   \n",
            "114  Infosys in Q2FY21 said it would hire 15,000 fr...   \n",
            "115  With the intense focus on client needs and the...   \n",
            "116  The term 'Digital' no longer serves its purpos...   \n",
            "117  Infosys was the biggest gainer among IT stocks...   \n",
            "\n",
            "                                           articleBody  \\\n",
            "0    indian tech giant infosys ltd asking employee ...   \n",
            "1    andhra pradesh chief minister jagan mohan redd...   \n",
            "2    yes security research report infosys infosys i...   \n",
            "3    emkay global financials research report infosy...   \n",
            "4    motilal oswals research report infosys info re...   \n",
            "..                                                 ...   \n",
            "113  icici directs research report infosys infosys ...   \n",
            "114  indiarsquos second largest service provider in...   \n",
            "115  infosys indian mnc provides business consultin...   \n",
            "116  usbased firm accenture stopped reporting reven...   \n",
            "117  infosys country secondlargest service provider...   \n",
            "\n",
            "                                                  tags         Open  \\\n",
            "0                                             Business  1373.050049   \n",
            "1                                   Business,Companies  1432.099976   \n",
            "2           Buy,Infosys,Recommendations,Yes Securities  1405.000000   \n",
            "3    Buy,Emkay Global Financial,Infosys,Recommendat...  1405.000000   \n",
            "4            Buy,Infosys,Motilal Oswal,Recommendations  1405.000000   \n",
            "..                                                 ...          ...   \n",
            "113           Buy,ICICI Direct,Infosys,Recommendations  1360.000000   \n",
            "114   Business,hiring,India,Infosys,Q3 earnings,stocks  1373.849976   \n",
            "115                                    Infosys,Results  1373.849976   \n",
            "116  Accenture,Business,Digital,India,Infosys,Tata ...  1269.000000   \n",
            "117                                   Business,Infosys  1257.900024   \n",
            "\n",
            "            High          Low        Close    Adj Close    Volume sentiment  \n",
            "0    1377.449951  1351.650024  1354.150024  1354.150024   3090672  positive  \n",
            "1    1443.599976  1430.000000  1434.150024  1415.824219   4850745  positive  \n",
            "2    1438.000000  1400.000000  1431.150024  1412.862549  17973439  positive  \n",
            "3    1438.000000  1400.000000  1431.150024  1412.862549  17973439  positive  \n",
            "4    1438.000000  1400.000000  1431.150024  1412.862549  17973439  positive  \n",
            "..           ...          ...          ...          ...       ...       ...  \n",
            "113  1384.000000  1318.449951  1370.500000  1264.452881  27521697  positive  \n",
            "114  1392.800049  1360.000000  1387.150024  1279.814819  14442997  positive  \n",
            "115  1392.800049  1360.000000  1387.150024  1279.814819  14442997  positive  \n",
            "116  1290.000000  1261.150024  1288.250000  1188.567383   7208454  positive  \n",
            "117  1265.500000  1255.800049  1260.449951  1162.918335   4253550  positive  \n",
            "\n",
            "[118 rows x 13 columns]\n",
            "                                         articleBody\n",
            "0  kr chokseys research report hdfc bank net inte...\n",
            "1  regardless commodity cooling auto space anil r...\n",
            "2  hdfc bank share closed percent higher october ...\n",
            "3  motilal oswals research report hdfc bank hdfc ...\n",
            "4  hdfc bank first quarterly result postmerger le...\n",
            "    Company        Date                                           headline  \\\n",
            "0     HDF01  18-10-2023       Buy HDFC Bank; target of Rs 2060: KR Choksey   \n",
            "1     HDF01  18-10-2023  Daily Voice | Auto OEMs with strong pipeline, ...   \n",
            "2     HDF01  17-10-2023  Why are analysts still bullish on HDFC Bank de...   \n",
            "3     HDF01  17-10-2023    Buy HDFC Bank; target of Rs 1950: Motilal Oswal   \n",
            "4     HDF01  17-10-2023  HDFC Bank Q2 earnings growth: Is it 50, 10 or ...   \n",
            "..      ...         ...                                                ...   \n",
            "141   HDF01  21-01-2021        Buy HDFC Bank: target of Rs 1810: Sharekhan   \n",
            "142   HDF01  19-01-2021   Buy HDFC Bank; target of Rs 1870: YES Securities   \n",
            "143   HDF01  19-01-2021  Buy HDFC Bank; target of Rs 1750: Dolat Capita...   \n",
            "144   HDF01  18-01-2021  HDFC Bank Q3 profit up 18%, here are highlight...   \n",
            "145   HDF01  05-01-2021  HDFC Bank, ICICI Bank extend senior citizens s...   \n",
            "\n",
            "                                           description  \\\n",
            "0    KR Choksey is bullish on HDFC Bank has recomme...   \n",
            "1    The demand for CVs (commercial vehicles) is li...   \n",
            "2    NIMs bottoming out, strong loan growth, networ...   \n",
            "3    Motilal Oswal is bullish on HDFC Bank recommen...   \n",
            "4    Contrary to the 50 percent profit growth numbe...   \n",
            "..                                                 ...   \n",
            "141  Sharekhan is bullish on HDFC Bank has recommen...   \n",
            "142  YES Securities is bullish on HDFC Bank has rec...   \n",
            "143  Dolat Capital Market is bullish on HDFC Bank h...   \n",
            "144  Cost to income ratio is expected to be back to...   \n",
            "145  Extra interest rates over the existing rates o...   \n",
            "\n",
            "                                           articleBody  \\\n",
            "0    kr chokseys research report hdfc bank net inte...   \n",
            "1    regardless commodity cooling auto space anil r...   \n",
            "2    hdfc bank share closed percent higher october ...   \n",
            "3    motilal oswals research report hdfc bank hdfc ...   \n",
            "4    hdfc bank first quarterly result postmerger le...   \n",
            "..                                                 ...   \n",
            "141  sharekhans research report hdfc bank q3fy2021 ...   \n",
            "142  yes security research report hdfc bank revisin...   \n",
            "143  dolat capital market research report hdfc bank...   \n",
            "144  hdfc banknbspon january 16 reported standalone...   \n",
            "145  specialnbspfixed depositnbspfd scheme senior c...   \n",
            "\n",
            "                                                  tags         Open  \\\n",
            "0             Buy,HDFC Bank,KR Choksey,Recommendations  1541.199951   \n",
            "1              Daily Voice,MARKET OUTLOOK,Nifty,Sensex  1541.199951   \n",
            "2                            HDFC Bank,Result Analysis  1555.750000   \n",
            "3          Buy,HDFC Bank,Motilal Oswal,Recommendations  1555.750000   \n",
            "4                    Buzzing Stocks,HDFC Bank,HDFC Ltd  1555.750000   \n",
            "..                                                 ...          ...   \n",
            "141            Buy,HDFC Bank,Recommendations,Sharekhan  1492.000000   \n",
            "142       Buy,HDFC Bank,Recommendations,Yes Securities  1491.800049   \n",
            "143  Buy,Dolat Capital Market,HDFC Bank,Recommendat...  1491.800049   \n",
            "144                 Results- Brokerage Conference Call  1469.900024   \n",
            "145  Business,Companies,Economy,India,personal finance  1419.199951   \n",
            "\n",
            "            High          Low        Close    Adj Close    Volume sentiment  \n",
            "0    1541.199951  1518.099976  1519.750000  1519.750000  15608100   neutral  \n",
            "1    1541.199951  1518.099976  1519.750000  1519.750000  15608100  positive  \n",
            "2    1555.750000  1535.000000  1541.199951  1541.199951  16451279  positive  \n",
            "3    1555.750000  1535.000000  1541.199951  1541.199951  16451279  positive  \n",
            "4    1555.750000  1535.000000  1541.199951  1541.199951  16451279  negative  \n",
            "..           ...          ...          ...          ...       ...       ...  \n",
            "141  1494.349976  1468.150024  1474.800049  1435.109497  13166527  positive  \n",
            "142  1511.650024  1467.000000  1503.849976  1463.377686   8680127  positive  \n",
            "143  1511.650024  1467.000000  1503.849976  1463.377686   8680127  positive  \n",
            "144  1502.849976  1467.000000  1483.099976  1443.186035  21412816  positive  \n",
            "145  1430.750000  1409.000000  1426.699951  1388.303833   7193412  positive  \n",
            "\n",
            "[146 rows x 13 columns]\n",
            "                                         articleBody\n",
            "0  share ofnbspreliance industry ltdnbspopened 2 ...\n",
            "1  jefferies india projected significant revenue ...\n",
            "2  reliance industry reported 6 percent yearonyea...\n",
            "3  reliance industry chairman managing director m...\n",
            "4  jio infocomm telecom division reliance industr...\n",
            "   Company        Date                                           headline  \\\n",
            "0       RI  30-10-2023  Reliance shares open 2% higher on robust Q2 ea...   \n",
            "1       RI  28-09-2023  Jefferies sees $7-10 bn revenue opportunity fo...   \n",
            "2       RI  21-07-2023  Reliance in Q1: A look at profits, capex, boom...   \n",
            "3       RI  21-07-2023  Reliance on track to create Jio Financial Serv...   \n",
            "4       RI  21-07-2023  Reliance Jio Q1 net profit rises 12% YoY to Rs...   \n",
            "..     ...         ...                                                ...   \n",
            "85      RI  05-01-2021  Reliance Jio case: High Court issues notice to...   \n",
            "86      RI  05-01-2021  M-cap of BSE-listed companies zoom to record h...   \n",
            "87      RI  05-01-2021  Reliance goes nationalistic to fight vested in...   \n",
            "88      RI  04-01-2021  Large corporations should not become collatera...   \n",
            "89      RI  04-01-2021  No plans to enter contract farming, won't purc...   \n",
            "\n",
            "                                          description  \\\n",
            "0   Gross revenue from operations of India&rsquo;s...   \n",
            "1   The brokerage house raised its consolidated EB...   \n",
            "2   The consumer facing businesses of India's larg...   \n",
            "3   Last year, Reliance Industries announced demer...   \n",
            "4   Its revenue from operations came in at Rs 24,0...   \n",
            "..                                                ...   \n",
            "85  In a media statement issued on January 4, RIL ...   \n",
            "86  Till Monday&rsquo;s trade, markets recorded th...   \n",
            "87  Reliance Jio has also sought directions to the...   \n",
            "88  It is also unfortunate that farmers have dragg...   \n",
            "89  Reliance Industries (RIL) also said it had nev...   \n",
            "\n",
            "                                          articleBody  \\\n",
            "0   share ofnbspreliance industry ltdnbspopened 2 ...   \n",
            "1   jefferies india projected significant revenue ...   \n",
            "2   reliance industry reported 6 percent yearonyea...   \n",
            "3   reliance industry chairman managing director m...   \n",
            "4   jio infocomm telecom division reliance industr...   \n",
            "..                                                ...   \n",
            "85  response petition filed reliance industry ril ...   \n",
            "86  total market capitalisation listed company bse...   \n",
            "87  reliance jio infocomm limited rjil subsidiary ...   \n",
            "88  farmersrsquo protest three farm sector law ris...   \n",
            "89  reliance industry limited ril said january 4 p...   \n",
            "\n",
            "                                                 tags         Open  \\\n",
            "0      Buzzing Stocks,equity markets,markets News,RIL  2274.000000   \n",
            "1   Buzzing Stocks,equity markets,Jio,markets News...  2383.000000   \n",
            "2                                         Results,RIL  2609.000000   \n",
            "3   Jio Financial Services,Reliance Industries (RI...  2609.000000   \n",
            "4                            Jio,Jio Infocomm,Results  2609.000000   \n",
            "..                                                ...          ...   \n",
            "85  Business,Farmers protest,India,Reliance Indust...  1969.000000   \n",
            "86  BSE,Business,market capitalisation (m-cap),Mar...  1969.000000   \n",
            "87                                 Business,Companies  1969.000000   \n",
            "88  Business,Current Affairs,Delhi Chalo,Farmers p...  1995.099976   \n",
            "89  agriculture,Business,Economy,Farmers protest,I...  1995.099976   \n",
            "\n",
            "           High          Low        Close    Adj Close      Volume sentiment  \n",
            "0   2325.000000  2269.949951  2312.500000  2312.500000   8406652.0  positive  \n",
            "1   2383.000000  2325.000000  2334.100098  2334.100098   7259173.0  positive  \n",
            "2   2614.899902  2523.600098  2538.750000  2529.813477  15124619.0  negative  \n",
            "3   2614.899902  2523.600098  2538.750000  2529.813477  15124619.0  positive  \n",
            "4   2614.899902  2523.600098  2538.750000  2529.813477  15124619.0  positive  \n",
            "..          ...          ...          ...          ...         ...       ...  \n",
            "85  1983.599976  1956.000000  1966.099976  1947.034912  11132803.0  negative  \n",
            "86  1983.599976  1956.000000  1966.099976  1947.034912  11132803.0  negative  \n",
            "87  1983.599976  1956.000000  1966.099976  1947.034912  11132803.0  negative  \n",
            "88  1998.900024  1968.000000  1990.849976  1971.544922  11312992.0  negative  \n",
            "89  1998.900024  1968.000000  1990.849976  1971.544922  11312992.0  negative  \n",
            "\n",
            "[90 rows x 13 columns]\n"
          ]
        }
      ]
    },
    {
      "cell_type": "code",
      "source": [
        "\n",
        "# data = pd.read_csv('/content/all_companies trail.csv')\n",
        "\n",
        "# # Specify the name of the column to preprocess\n",
        "# column_to_preprocess = 'Content'\n",
        "\n",
        "# # Define a function for text preprocessing\n",
        "# def preprocess_text(text):\n",
        "#     # Convert text to lowercase\n",
        "#     text = text.lower()\n",
        "\n",
        "#     # Remove punctuation\n",
        "#     translator = str.maketrans('', '', string.punctuation)\n",
        "#     text = text.translate(translator)\n",
        "\n",
        "#     # Tokenize the text\n",
        "#     tokens = text.split()\n",
        "\n",
        "#     # Remove stopwords\n",
        "#     stop_words = set(stopwords.words('english'))\n",
        "#     filtered_tokens = [word for word in tokens if word not in stop_words]\n",
        "\n",
        "#     # Lemmatize the tokens\n",
        "#     lemmatizer = WordNetLemmatizer()\n",
        "#     lemmatized_tokens = [lemmatizer.lemmatize(token) for token in filtered_tokens]\n",
        "\n",
        "#     # Join the tokens back into a single string\n",
        "#     preprocessed_text = ' '.join(lemmatized_tokens)\n",
        "\n",
        "#     return preprocessed_text\n",
        "\n",
        "# # Apply the preprocessing function to the specified column\n",
        "# data[column_to_preprocess] = data[column_to_preprocess].apply(preprocess_text)\n",
        "# # should make new column\n",
        "# data.to_csv('/content/all_companies trail.csv')\n",
        "# # Display the preprocessed data\n",
        "# print(data[[column_to_preprocess]].head())\n",
        "\n",
        "# def analyze_sentiment(text):\n",
        "#     analysis = TextBlob(text)\n",
        "#     sentiment = analysis.sentiment.polarity\n",
        "#     if sentiment > 0:\n",
        "#         return 'positive'\n",
        "#     elif sentiment < 0:\n",
        "#         return 'negative'\n",
        "#     else:\n",
        "#         return 'neutral'\n",
        "\n",
        "# # Apply sentiment analysis to the news data\n",
        "# data['sentiment'] = data['Content'].apply(analyze_sentiment)\n",
        "# print(data)\n",
        "# data.to_csv('sentiment.csv',index = False)\n"
      ],
      "metadata": {
        "id": "m6E7Ty_kF9k5"
      },
      "execution_count": null,
      "outputs": []
    },
    {
      "cell_type": "code",
      "source": [
        "df  =pd.read_csv('sentiment.csv')"
      ],
      "metadata": {
        "id": "eJl1q5yLEkef"
      },
      "execution_count": null,
      "outputs": []
    },
    {
      "cell_type": "code",
      "source": [
        "df['sentiment'].value_counts()['positive']"
      ],
      "metadata": {
        "colab": {
          "base_uri": "https://localhost:8080/"
        },
        "id": "DKlSiz9eFH1U",
        "outputId": "9cc5e551-6b67-42cb-ffd5-89c9624c19ec"
      },
      "execution_count": null,
      "outputs": [
        {
          "output_type": "execute_result",
          "data": {
            "text/plain": [
              "131"
            ]
          },
          "metadata": {},
          "execution_count": 20
        }
      ]
    },
    {
      "cell_type": "code",
      "source": [
        "df['sentiment'].value_counts()['neutral']"
      ],
      "metadata": {
        "colab": {
          "base_uri": "https://localhost:8080/"
        },
        "id": "3BLdvQhaFH47",
        "outputId": "4fe792d8-8437-45e4-a2bc-3c69df9c3452"
      },
      "execution_count": null,
      "outputs": [
        {
          "output_type": "execute_result",
          "data": {
            "text/plain": [
              "2"
            ]
          },
          "metadata": {},
          "execution_count": 21
        }
      ]
    },
    {
      "cell_type": "code",
      "source": [
        "df['sentiment'].value_counts()['negative']"
      ],
      "metadata": {
        "colab": {
          "base_uri": "https://localhost:8080/"
        },
        "id": "Lk0e7DivE3eM",
        "outputId": "56b63f4f-5b73-46c7-da85-f80f36573156"
      },
      "execution_count": null,
      "outputs": [
        {
          "output_type": "execute_result",
          "data": {
            "text/plain": [
              "24"
            ]
          },
          "metadata": {},
          "execution_count": 22
        }
      ]
    },
    {
      "cell_type": "code",
      "source": [
        "data = pd.read_csv('/content/TEL combined.csv')\n",
        "print(data.head())\n",
        "\n",
        "summary = data.describe()\n",
        "print(\"--------\\n SUMMARY\\n--------\\n\",summary)\n"
      ],
      "metadata": {
        "id": "7p02X6NUbPmr"
      },
      "execution_count": null,
      "outputs": []
    },
    {
      "cell_type": "markdown",
      "metadata": {
        "id": "EtD6ruU6rhUs"
      },
      "source": [
        "**~~~---------------------------------------------------------------------------------------------------------------------------~~~**"
      ]
    },
    {
      "cell_type": "code",
      "execution_count": null,
      "metadata": {
        "id": "YFLILy7hohHu"
      },
      "outputs": [],
      "source": [
        "# Assuming you have a DataFrame 'data' with columns 'text' and 'closing_price'\n",
        "data['stock_price_change'] = data['Close'].diff().shift(-1)\n",
        "data"
      ]
    },
    {
      "cell_type": "code",
      "source": [
        "# from textblob import TextBlob\n",
        "# f = ['TEL','LI09','IT','HDF01','RI']\n",
        "# for i in f:\n",
        "#   def analyze_sentiment(text):\n",
        "#       analysis = TextBlob(text)\n",
        "#       sentiment = analysis.sentiment.polarity\n",
        "#       if sentiment > 0:\n",
        "#           return 'positive'\n",
        "#       elif sentiment < 0:\n",
        "#           return 'negative'\n",
        "#       else:\n",
        "#           return 'neutral'\n",
        "\n",
        "#   # Apply sentiment analysis to the news data\n",
        "#   data['sentiment'] = data['articleBody'].apply(analyze_sentiment)\n",
        "#   print(data)\n",
        "#   data.to_csv(i+'sentiment.csv',index = False)"
      ],
      "metadata": {
        "id": "yyYeSNEZup8z"
      },
      "execution_count": null,
      "outputs": []
    },
    {
      "cell_type": "code",
      "source": [
        "# @title SENTIMENT GRAPH\n",
        "sentiment_counts = data['sentiment'].value_counts()\n",
        "\n",
        "# Visualize the distribution\n",
        "plt.bar(sentiment_counts.index, sentiment_counts.values)\n",
        "plt.xlabel('Sentiment Labels')\n",
        "plt.ylabel('Count')\n",
        "plt.title('Distribution of Sentiment Labels')\n",
        "plt.show()\n",
        "\n",
        "# Assuming you have a 'date' column in your dataset\n",
        "data['Date'] = pd.to_datetime(data['Date'])\n",
        "\n",
        "# Group data by date and sentiment\n",
        "sentiment_over_time = data.groupby(['Date', 'sentiment']).size().unstack().fillna(0)\n",
        "\n",
        "# Create a time series plot\n",
        "sentiment_over_time.plot(kind='line', stacked=True)\n",
        "plt.xlabel('Date')\n",
        "plt.ylabel('Count')\n",
        "plt.title('Sentiment Over Time')\n",
        "plt.show()\n",
        "\n"
      ],
      "metadata": {
        "colab": {
          "base_uri": "https://localhost:8080/",
          "height": 965
        },
        "id": "ukAWZHWguQKi",
        "outputId": "4a73d7dd-b6df-4e13-bb94-1309fce2fcd4"
      },
      "execution_count": null,
      "outputs": [
        {
          "output_type": "display_data",
          "data": {
            "text/plain": [
              "<Figure size 640x480 with 1 Axes>"
            ],
            "image/png": "[encoded data removed]"
          },
          "metadata": {}
        },
        {
          "output_type": "stream",
          "name": "stderr",
          "text": [
            "<ipython-input-24-60eab747ca65>:12: UserWarning: Parsing dates in DD/MM/YYYY format when dayfirst=False (the default) was specified. This may lead to inconsistently parsed dates! Specify a format to ensure consistent parsing.\n",
            "  data['Date'] = pd.to_datetime(data['Date'])\n"
          ]
        },
        {
          "output_type": "display_data",
          "data": {
            "text/plain": [
              "<Figure size 640x480 with 1 Axes>"
            ],
            "image/png": "[encoded data removed]"
          },
          "metadata": {}
        }
      ]
    },
    {
      "cell_type": "code",
      "source": [
        "import pandas as pd\n",
        "import nltk\n",
        "from nltk.corpus import stopwords\n",
        "from nltk.stem import PorterStemmer\n",
        "from textblob import TextBlob\n",
        "\n",
        "# Load the data from a CSV file\n",
        "data = pd.read_csv('/content/IT combined.csv')\n",
        "\n",
        "# Define a function for text preprocessing\n",
        "nltk.download('stopwords')\n",
        "stop_words = set(stopwords.words('english'))\n",
        "stemmer = PorterStemmer()\n",
        "\n",
        "def preprocess_text(text):\n",
        "    # Convert to lowercase\n",
        "    text = text.lower()\n",
        "    # Tokenize the text\n",
        "    words = nltk.word_tokenize(text)\n",
        "    # Remove stopwords\n",
        "    words = [word for word in words if word not in stop_words]\n",
        "    # Stem the words\n",
        "    words = [stemmer.stem(word) for word in words]\n",
        "    # Join the words back into a cleaned text\n",
        "    cleaned_text = ' '.join(words)\n",
        "    return cleaned_text\n",
        "\n",
        "# Apply the preprocessing function to the news content\n",
        "data['cleaned_text'] = data['articleBody'].apply(preprocess_text)\n"
      ],
      "metadata": {
        "colab": {
          "base_uri": "https://localhost:8080/"
        },
        "id": "cYX3dwNGnGtJ",
        "outputId": "6e1cd7e9-62f6-4e27-9e87-1e931e16402b"
      },
      "execution_count": null,
      "outputs": [
        {
          "output_type": "stream",
          "name": "stderr",
          "text": [
            "[nltk_data] Downloading package stopwords to /root/nltk_data...\n",
            "[nltk_data]   Package stopwords is already up-to-date!\n"
          ]
        }
      ]
    },
    {
      "cell_type": "code",
      "source": [
        "# Define a function to analyze sentiment\n",
        "def analyze_sentiment(text):\n",
        "    analysis = TextBlob(text)\n",
        "    sentiment = analysis.sentiment.polarity\n",
        "    if sentiment > 0:\n",
        "        return 'positive'\n",
        "    elif sentiment < 0:\n",
        "        return 'negative'\n",
        "    else:\n",
        "        return 'neutral'\n",
        "\n",
        "# Apply sentiment analysis to the cleaned text\n",
        "data['sentiment'] = data['cleaned_text'].apply(analyze_sentiment)"
      ],
      "metadata": {
        "id": "JoqJwtNTnaX8"
      },
      "execution_count": null,
      "outputs": []
    },
    {
      "cell_type": "code",
      "source": [
        "# @title SENTIMENT GRAPH\n",
        "sentiment_counts = data['sentiment'].value_counts()\n",
        "\n",
        "# Visualize the distribution\n",
        "plt.bar(sentiment_counts.index, sentiment_counts.values)\n",
        "plt.xlabel('Sentiment Labels')\n",
        "plt.ylabel('Count')\n",
        "plt.title('Distribution of Sentiment Labels')\n",
        "plt.show()\n",
        "\n",
        "# Assuming you have a 'date' column in your dataset\n",
        "data['Date'] = pd.to_datetime(data['Date'])\n",
        "\n",
        "# Group data by date and sentiment\n",
        "sentiment_over_time = data.groupby(['Date', 'sentiment']).size().unstack().fillna(0)\n",
        "\n",
        "# Create a time series plot\n",
        "sentiment_over_time.plot(kind='line', stacked=True)\n",
        "plt.xlabel('Date')\n",
        "plt.ylabel('Count')\n",
        "plt.title('Sentiment Over Time')\n",
        "plt.show()"
      ],
      "metadata": {
        "colab": {
          "base_uri": "https://localhost:8080/",
          "height": 965
        },
        "id": "PAXPy2L3o9OF",
        "outputId": "072d7a42-e1e3-44f3-ef7f-8bce35a6322c"
      },
      "execution_count": null,
      "outputs": [
        {
          "output_type": "display_data",
          "data": {
            "text/plain": [
              "<Figure size 640x480 with 1 Axes>"
            ],
            "image/png": "[encoded data removed]"
          },
          "metadata": {}
        },
        {
          "output_type": "stream",
          "name": "stderr",
          "text": [
            "<ipython-input-26-6ac9c2113cc9>:12: UserWarning: Parsing dates in DD/MM/YYYY format when dayfirst=False (the default) was specified. This may lead to inconsistently parsed dates! Specify a format to ensure consistent parsing.\n",
            "  data['Date'] = pd.to_datetime(data['Date'])\n"
          ]
        },
        {
          "output_type": "display_data",
          "data": {
            "text/plain": [
              "<Figure size 640x480 with 1 Axes>"
            ],
            "image/png": "[encoded data removed]"
          },
          "metadata": {}
        }
      ]
    },
    {
      "cell_type": "code",
      "source": [
        "data['sentiment'].value_counts()['negative']"
      ],
      "metadata": {
        "colab": {
          "base_uri": "https://localhost:8080/"
        },
        "id": "9A_Q-DLnq2XA",
        "outputId": "c5a55fdc-3af6-4ac9-c554-4fb5973a0c0f"
      },
      "execution_count": null,
      "outputs": [
        {
          "output_type": "execute_result",
          "data": {
            "text/plain": [
              "14"
            ]
          },
          "metadata": {},
          "execution_count": 27
        }
      ]
    },
    {
      "cell_type": "code",
      "source": [
        "data['sentiment'].value_counts()['positive']"
      ],
      "metadata": {
        "colab": {
          "base_uri": "https://localhost:8080/"
        },
        "id": "mofjhMCTq49p",
        "outputId": "d718ccac-f43f-4774-ae25-4f0284a45394"
      },
      "execution_count": null,
      "outputs": [
        {
          "output_type": "execute_result",
          "data": {
            "text/plain": [
              "102"
            ]
          },
          "metadata": {},
          "execution_count": 28
        }
      ]
    },
    {
      "cell_type": "code",
      "source": [
        "data['sentiment'].value_counts()['neutral']"
      ],
      "metadata": {
        "colab": {
          "base_uri": "https://localhost:8080/"
        },
        "id": "Q_k8Sni3q7tI",
        "outputId": "2b6e428d-7a6b-4aed-9011-7d4bb8178e97"
      },
      "execution_count": null,
      "outputs": [
        {
          "output_type": "execute_result",
          "data": {
            "text/plain": [
              "2"
            ]
          },
          "metadata": {},
          "execution_count": 29
        }
      ]
    },
    {
      "cell_type": "code",
      "source": [
        "# Import necessary libraries\n",
        "from sklearn.model_selection import train_test_split\n",
        "from sklearn.feature_extraction.text import TfidfVectorizer\n",
        "from sklearn.naive_bayes import MultinomialNB\n",
        "from sklearn.metrics import accuracy_score, classification_report\n",
        "\n",
        "# Assuming 'data' contains the 'cleaned_text' and 'sentiment' columns\n",
        "\n",
        "# Split the data into training and testing sets\n",
        "X = data['cleaned_text']\n",
        "y = data['sentiment']\n",
        "X_train, X_test, y_train, y_test = train_test_split(X, y, test_size=0.2, random_state=42)\n",
        "\n",
        "# TF-IDF Vectorization\n",
        "tfidf_vectorizer = TfidfVectorizer(max_features=5000)\n",
        "X_train_tfidf = tfidf_vectorizer.fit_transform(X_train)\n",
        "X_test_tfidf = tfidf_vectorizer.transform(X_test)\n",
        "\n",
        "# Create and train the sentiment analysis model\n",
        "sentiment_classifier = MultinomialNB()\n",
        "sentiment_classifier.fit(X_train_tfidf, y_train)\n",
        "\n",
        "# Predict sentiment labels on the test set\n",
        "y_pred = sentiment_classifier.predict(X_test_tfidf)\n",
        "\n",
        "# Evaluate the model\n",
        "accuracy = accuracy_score(y_test, y_pred)\n",
        "report = classification_report(y_test, y_pred)\n",
        "\n",
        "print(\"Accuracy:\", accuracy)\n",
        "print(report)\n"
      ],
      "metadata": {
        "colab": {
          "base_uri": "https://localhost:8080/"
        },
        "id": "FgYoZ9musb4X",
        "outputId": "5ff3e74f-84da-4c72-fb58-05ffd102323c"
      },
      "execution_count": null,
      "outputs": [
        {
          "output_type": "stream",
          "name": "stdout",
          "text": [
            "Accuracy: 0.7916666666666666\n",
            "              precision    recall  f1-score   support\n",
            "\n",
            "    negative       0.00      0.00      0.00         4\n",
            "     neutral       0.00      0.00      0.00         1\n",
            "    positive       0.79      1.00      0.88        19\n",
            "\n",
            "    accuracy                           0.79        24\n",
            "   macro avg       0.26      0.33      0.29        24\n",
            "weighted avg       0.63      0.79      0.70        24\n",
            "\n"
          ]
        },
        {
          "output_type": "stream",
          "name": "stderr",
          "text": [
            "/usr/local/lib/python3.10/dist-packages/sklearn/metrics/_classification.py:1344: UndefinedMetricWarning: Precision and F-score are ill-defined and being set to 0.0 in labels with no predicted samples. Use `zero_division` parameter to control this behavior.\n",
            "  _warn_prf(average, modifier, msg_start, len(result))\n",
            "/usr/local/lib/python3.10/dist-packages/sklearn/metrics/_classification.py:1344: UndefinedMetricWarning: Precision and F-score are ill-defined and being set to 0.0 in labels with no predicted samples. Use `zero_division` parameter to control this behavior.\n",
            "  _warn_prf(average, modifier, msg_start, len(result))\n",
            "/usr/local/lib/python3.10/dist-packages/sklearn/metrics/_classification.py:1344: UndefinedMetricWarning: Precision and F-score are ill-defined and being set to 0.0 in labels with no predicted samples. Use `zero_division` parameter to control this behavior.\n",
            "  _warn_prf(average, modifier, msg_start, len(result))\n"
          ]
        }
      ]
    },
    {
      "cell_type": "code",
      "source": [
        "# New text data for testing\n",
        "new_text = [\"This is a great product and I love it.\",\n",
        "            \"I'm really disappointed with the customer service.\",\n",
        "            \"The weather is nice today.\"]\n",
        "\n",
        "# Preprocess the new text data (clean and perform the same preprocessing as the training data)\n",
        "new_text = [preprocess_text(text) for text in new_text]\n",
        "\n",
        "# Vectorize the preprocessed new data using the same vectorizer\n",
        "new_text_tfidf = tfidf_vectorizer.transform(new_text)\n",
        "\n",
        "# Use the trained sentiment analysis model to predict sentiment labels for the new data\n",
        "predicted_sentiments = sentiment_classifier.predict(new_text_tfidf)\n",
        "\n",
        "# Display the predicted sentiments for the new text data\n",
        "for text, sentiment in zip(new_text, predicted_sentiments):\n",
        "    print(f\"Text: {text}\")\n",
        "    print(f\"Predicted Sentiment: {sentiment}\\n\")"
      ],
      "metadata": {
        "colab": {
          "base_uri": "https://localhost:8080/"
        },
        "id": "agvLK-Icsfb-",
        "outputId": "63318b74-023e-48a0-e431-f8cee6353404"
      },
      "execution_count": null,
      "outputs": [
        {
          "output_type": "stream",
          "name": "stdout",
          "text": [
            "Text: great product love .\n",
            "Predicted Sentiment: positive\n",
            "\n",
            "Text: 'm realli disappoint custom servic .\n",
            "Predicted Sentiment: positive\n",
            "\n",
            "Text: weather nice today .\n",
            "Predicted Sentiment: positive\n",
            "\n"
          ]
        }
      ]
    },
    {
      "cell_type": "code",
      "source": [],
      "metadata": {
        "id": "CYxoA8irnisl"
      },
      "execution_count": null,
      "outputs": []
    },
    {
      "cell_type": "code",
      "source": [
        "# @title preprocessing and feature engineering\n",
        "# import nltk\n",
        "# from nltk.corpus import stopwords\n",
        "# from nltk.stem import PorterStemmer\n",
        "# from sklearn.feature_extraction.text import TfidfVectorizer\n",
        "# from sklearn.model_selection import train_test_split\n",
        "# nltk.download('punkt')\n",
        "\n",
        "data = pd.read_csv('')\n",
        "\n",
        "# Data Preprocessing\n",
        "nltk.download('stopwords')\n",
        "stop_words = set(stopwords.words('english'))\n",
        "stemmer = PorterStemmer()\n",
        "\n",
        "def preprocess_text(text):\n",
        "    text = text.lower()\n",
        "    words = nltk.word_tokenize(text)\n",
        "    words = [word for word in words if word not in stop_words]\n",
        "    # Stem the words\n",
        "    words = [stemmer.stem(word) for word in words]\n",
        "    return ' '.join(words)\n",
        "\n",
        "data['preprocessed_text'] = data['articleBody'].apply(preprocess_text)\n",
        "data.to_csv('TELsentiment.csv')\n",
        "\n",
        "# Text Vectorization using TF-IDF\n",
        "tfidf_vectorizer = TfidfVectorizer(max_features=10000)\n",
        "X_tfidf = tfidf_vectorizer.fit_transform(data['preprocessed_text'])\n",
        "\n",
        "X_train, X_test, y_train, y_test = train_test_split(X_tfidf, data['sentiment'], test_size=0.3)\n",
        "\n",
        "# Feature Engineering (Example: Word Count)\n",
        "data['word_count'] = data['preprocessed_text'].apply(lambda x: len(x.split()))\n",
        "\n"
      ],
      "metadata": {
        "colab": {
          "base_uri": "https://localhost:8080/"
        },
        "id": "El9ooO65GO3Y",
        "outputId": "876fbf78-71ef-4b97-c242-2832c090d2fb"
      },
      "execution_count": null,
      "outputs": [
        {
          "output_type": "stream",
          "name": "stderr",
          "text": [
            "[nltk_data] Downloading package stopwords to /root/nltk_data...\n",
            "[nltk_data]   Package stopwords is already up-to-date!\n"
          ]
        }
      ]
    },
    {
      "cell_type": "code",
      "source": [
        "from sklearn.naive_bayes import MultinomialNB\n",
        "from sklearn.metrics import accuracy_score, classification_report\n",
        "\n",
        "# Create a Multinomial Naive Bayes classifier\n",
        "sentiment_classifier = MultinomialNB()\n",
        "\n",
        "sentiment_classifier.fit(X_train, y_train)\n",
        "\n",
        "# Predict sentiment labels on the testing data\n",
        "y_pred = sentiment_classifier.predict(X_test)\n",
        "\n",
        "# Evaluate the model's performance\n",
        "accuracy = accuracy_score(y_test, y_pred)\n",
        "report = classification_report(y_test, y_pred)\n",
        "\n",
        "# Print the results\n",
        "print(f\"Accuracy: {accuracy:.2f}\")\n",
        "print(\"Classification Report:\\n\", report)\n"
      ],
      "metadata": {
        "colab": {
          "base_uri": "https://localhost:8080/"
        },
        "id": "LggXs3jmKcWB",
        "outputId": "9b0a3f69-c3df-4eac-b4bf-6b700d393ab7"
      },
      "execution_count": null,
      "outputs": [
        {
          "output_type": "stream",
          "name": "stdout",
          "text": [
            "Accuracy: 0.90\n",
            "Classification Report:\n",
            "               precision    recall  f1-score   support\n",
            "\n",
            "    negative       0.00      0.00      0.00         2\n",
            "    positive       0.90      1.00      0.95        18\n",
            "\n",
            "    accuracy                           0.90        20\n",
            "   macro avg       0.45      0.50      0.47        20\n",
            "weighted avg       0.81      0.90      0.85        20\n",
            "\n"
          ]
        },
        {
          "output_type": "stream",
          "name": "stderr",
          "text": [
            "/usr/local/lib/python3.10/dist-packages/sklearn/metrics/_classification.py:1344: UndefinedMetricWarning: Precision and F-score are ill-defined and being set to 0.0 in labels with no predicted samples. Use `zero_division` parameter to control this behavior.\n",
            "  _warn_prf(average, modifier, msg_start, len(result))\n",
            "/usr/local/lib/python3.10/dist-packages/sklearn/metrics/_classification.py:1344: UndefinedMetricWarning: Precision and F-score are ill-defined and being set to 0.0 in labels with no predicted samples. Use `zero_division` parameter to control this behavior.\n",
            "  _warn_prf(average, modifier, msg_start, len(result))\n",
            "/usr/local/lib/python3.10/dist-packages/sklearn/metrics/_classification.py:1344: UndefinedMetricWarning: Precision and F-score are ill-defined and being set to 0.0 in labels with no predicted samples. Use `zero_division` parameter to control this behavior.\n",
            "  _warn_prf(average, modifier, msg_start, len(result))\n"
          ]
        }
      ]
    },
    {
      "cell_type": "code",
      "source": [
        "def preprocess_text(text):\n",
        "    text = text.lower()\n",
        "    translator = str.maketrans('', '', string.punctuation)\n",
        "    text = text.translate(translator)\n",
        "    tokens = text.split()\n",
        "    lemmatizer = WordNetLemmatizer()\n",
        "    lemmatized_tokens = [lemmatizer.lemmatize(token) for token in tokens]\n",
        "    preprocessed_text = ' '.join(lemmatized_tokens)\n",
        "    return preprocessed_text\n",
        "text = 'Tata stock is bad. they supposed to decrease it'\n",
        "preprocessed_text = preprocess_text(text)\n",
        "new_text_tfidf = tfidf_vectorizer.transform([preprocessed_text])\n",
        "\n",
        "predicted_sentiment = sentiment_classifier.predict(new_text_tfidf)\n",
        "\n",
        "print(f\"The predicted sentiment is: {predicted_sentiment}\")"
      ],
      "metadata": {
        "colab": {
          "base_uri": "https://localhost:8080/"
        },
        "id": "ZiTWo1uhK9FK",
        "outputId": "3b66b174-7de5-496b-9e0e-ab98053ad7dc"
      },
      "execution_count": null,
      "outputs": [
        {
          "output_type": "stream",
          "name": "stdout",
          "text": [
            "The predicted sentiment is: ['positive']\n"
          ]
        }
      ]
    }
  ],
  "metadata": {
    "colab": {
      "provenance": [],
      "gpuType": "T4"
    },
    "kernelspec": {
      "display_name": "Python 3",
      "name": "python3"
    },
    "language_info": {
      "name": "python"
    },
    "accelerator": "GPU"
  },
  "nbformat": 4,
  "nbformat_minor": 0
}